{
 "cells": [
  {
   "cell_type": "code",
   "execution_count": 1,
   "metadata": {},
   "outputs": [
    {
     "name": "stdout",
     "output_type": "stream",
     "text": [
      "✅ Folder and file structure created.\n"
     ]
    }
   ],
   "source": [
    "import os\n",
    "\n",
    "# Define base directory\n",
    "base_dir = \"agentic-ai-tutor/server\"\n",
    "\n",
    "# Define folder structure\n",
    "folders = [\n",
    "    base_dir,\n",
    "    f\"{base_dir}/db\",\n",
    "    f\"{base_dir}/models\",\n",
    "    f\"{base_dir}/routes\",\n",
    "    f\"{base_dir}/services\"\n",
    "]\n",
    "\n",
    "# Define files to create with their paths\n",
    "files = [\n",
    "    f\"{base_dir}/server.js\",\n",
    "    f\"{base_dir}/.env\",\n",
    "    f\"{base_dir}/db/schema.sql\",\n",
    "    f\"{base_dir}/routes/chat.js\",\n",
    "    f\"{base_dir}/services/openai.js\",\n",
    "    f\"{base_dir}/models/chat.js\",\n",
    "    f\"{base_dir}/models/message.js\",\n",
    "    f\"{base_dir}/models/persona.js\"\n",
    "]\n",
    "\n",
    "# Create folders\n",
    "for folder in folders:\n",
    "    os.makedirs(folder, exist_ok=True)\n",
    "\n",
    "# Create empty files\n",
    "for file_path in files:\n",
    "    with open(file_path, 'w') as f:\n",
    "        f.write(\"\")  # leave the file empty for now\n",
    "\n",
    "print(\"✅ Folder and file structure created.\")\n"
   ]
  },
  {
   "cell_type": "code",
   "execution_count": null,
   "metadata": {},
   "outputs": [],
   "source": []
  }
 ],
 "metadata": {
  "kernelspec": {
   "display_name": "Python 3",
   "language": "python",
   "name": "python3"
  },
  "language_info": {
   "codemirror_mode": {
    "name": "ipython",
    "version": 3
   },
   "file_extension": ".py",
   "mimetype": "text/x-python",
   "name": "python",
   "nbconvert_exporter": "python",
   "pygments_lexer": "ipython3",
   "version": "3.8.5"
  }
 },
 "nbformat": 4,
 "nbformat_minor": 4
}
